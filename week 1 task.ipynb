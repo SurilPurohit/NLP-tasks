{
 "cells": [
  {
   "cell_type": "markdown",
   "id": "c7a75bff",
   "metadata": {},
   "source": [
    "Write a Python program to replace maximum 2 occurrences of space, comma, or dot with a colon.\n",
    "\n",
    "Write a Python program to find all five-character words in a string.\n",
    "\n",
    "Write a Python program to find all three, four, and five character words in a string.\n",
    "\n",
    "Write a Python program to find all words that are at least 4 characters long in a string.\n",
    "\n",
    "Write a Python program to convert a camel-case string to a snake-case string.\n",
    "\n",
    "Write a python program to convert snake-case string to camel-case string.\n",
    "\n",
    "Write a Python program to extract values between quotation marks of a string.\n",
    "\n",
    "Write a Python program to remove multiple spaces from a string.\n",
    "\n",
    "Write a Python program to remove all whitespaces from a string.\n",
    "\n",
    "Write a Python program to remove everything except alphanumeric characters from a string.\n",
    "\n",
    "Write a Python program to find URLs in a string.\n",
    "\n",
    "Write a Python program to split a string into uppercase letters.\n",
    "\n",
    "Write a Python program to do case-insensitive string replacement.\n",
    "\n",
    "Write a Python program to insert spaces between words starting with capital letters."
   ]
  },
  {
   "cell_type": "code",
   "execution_count": 13,
   "id": "d6b94b9e",
   "metadata": {},
   "outputs": [
    {
     "name": "stdout",
     "output_type": "stream",
     "text": [
      "Enter the textSuril Purohit\n",
      "Suril;Purohit\n"
     ]
    }
   ],
   "source": [
    "# Write a Python program to replace maximum 2 occurrences of space, comma, or dot with a colon.\n",
    "s = input('Enter the text')\n",
    "st = ''\n",
    "for i in s:\n",
    "    if i == ' ' or i == ',' or i == '.':\n",
    "        st += ';'\n",
    "    else:\n",
    "        st += i\n",
    "    \n",
    "print(st)"
   ]
  },
  {
   "cell_type": "code",
   "execution_count": 18,
   "id": "2573870c",
   "metadata": {},
   "outputs": [
    {
     "name": "stdout",
     "output_type": "stream",
     "text": [
      "Enter the string: Enter the numbe\n",
      "['Enter', 'numbe']\n"
     ]
    }
   ],
   "source": [
    "# Write a Python program to find all five-character words in a string.\n",
    "s = input('Enter the string: ')\n",
    "st = ''\n",
    "l = []\n",
    "for i in s:\n",
    "    if i == ' ':\n",
    "        st = ''\n",
    "    else:\n",
    "        st += i\n",
    "    if len(st) == 5:\n",
    "        l.append(st)\n",
    "        st = ''\n",
    "print(l)"
   ]
  },
  {
   "cell_type": "code",
   "execution_count": 21,
   "id": "73d725fd",
   "metadata": {},
   "outputs": [
    {
     "name": "stdout",
     "output_type": "stream",
     "text": [
      "Enter the string: how are you feeling today\n",
      "['how', 'are', 'you', 'today']\n"
     ]
    }
   ],
   "source": [
    "# Write a Python program to find all three, four, and five character words in a string.\n",
    "s = input('Enter the string: ')\n",
    "res = s.split()\n",
    "l = []\n",
    "for i in res:\n",
    "    if len(i) == 3 or len(i) == 4 or len(i) == 5:\n",
    "        l.append(i)\n",
    "print(l)"
   ]
  },
  {
   "cell_type": "code",
   "execution_count": 2,
   "id": "1f66faf0",
   "metadata": {},
   "outputs": [
    {
     "name": "stdout",
     "output_type": "stream",
     "text": [
      "Enter the string: hello, my name is Suril\n",
      "['hello,', 'name', 'Suril']\n"
     ]
    }
   ],
   "source": [
    "# Write a Python program to find all words that are at least 4 characters long in a string.\n",
    "s = input('Enter the string: ') # 'hello, my name is Suril'\n",
    "res = s.split()\n",
    "l = []\n",
    "for i in res:\n",
    "    if len(i) > 3:\n",
    "        l.append(i)\n",
    "print(l)"
   ]
  },
  {
   "cell_type": "code",
   "execution_count": 10,
   "id": "1b7f1384",
   "metadata": {},
   "outputs": [
    {
     "name": "stdout",
     "output_type": "stream",
     "text": [
      "Enter the string: MyNameIsSuril\n",
      "My_Name_Is_Suril\n"
     ]
    }
   ],
   "source": [
    "# Write a Python program to convert a camel-case string to a snake-case string.\n",
    "s = input('Enter the string: ') # 'MyNameIsSuril'\n",
    "st = ''\n",
    "flag = 0\n",
    "for i in s:\n",
    "    if i in 'ABCDEFGHIJKLMNOPQRSTUVWXYZ' and flag == 0:\n",
    "        st += i\n",
    "        flag = 1\n",
    "    elif i in 'ABCDEFGHIJKLMNOPQRSTUVWXYZ' and flag == 1:\n",
    "        st += '_'\n",
    "        st += i\n",
    "    else:\n",
    "        st += i\n",
    "print(st)"
   ]
  },
  {
   "cell_type": "code",
   "execution_count": 6,
   "id": "6556c95f",
   "metadata": {},
   "outputs": [
    {
     "name": "stdout",
     "output_type": "stream",
     "text": [
      "MyNameIsSuril\n"
     ]
    }
   ],
   "source": [
    "# Write a python program to convert snake-case string to camel-case string.\n",
    "s = input('Enter the string: ') # 'MyNameIsSuril'\n",
    "st = ''\n",
    "for i in s:\n",
    "    if i == '_':\n",
    "        continue\n",
    "    else:\n",
    "        st += i\n",
    "print(st)"
   ]
  },
  {
   "cell_type": "code",
   "execution_count": 60,
   "id": "53be060c",
   "metadata": {},
   "outputs": [
    {
     "name": "stdout",
     "output_type": "stream",
     "text": [
      "['Python', 'C#', 'Java']\n"
     ]
    }
   ],
   "source": [
    "# Write a Python program to extract values between quotation marks of a string.\n",
    "s = '\"Python\", \"C#\", \"Java\"'\n",
    "s_str = s.split(', ')\n",
    "st = ''\n",
    "l = []\n",
    "for i in s_str:\n",
    "    st = i.strip('\"')\n",
    "    l.append(st)\n",
    "print(l)"
   ]
  },
  {
   "cell_type": "code",
   "execution_count": 65,
   "id": "3afaeb27",
   "metadata": {},
   "outputs": [
    {
     "name": "stdout",
     "output_type": "stream",
     "text": [
      "Suril Purohit\n"
     ]
    }
   ],
   "source": [
    "# Write a Python program to remove multiple spaces from a string.\n",
    "s = 'Suril      Purohit'\n",
    "st = ' '.join(s.split()) # ''\n",
    "# for i in range(0, len(s)-1):\n",
    "#     if s[i] == ' ' and s[i+1] == ' ':\n",
    "#         continue\n",
    "#     elif s[i] == ' ' and s[i+1] != ' ':\n",
    "#         st += s[i]\n",
    "#     else:\n",
    "#         st += s[i]\n",
    "# st += s[i+1]\n",
    "\n",
    "print(st)"
   ]
  },
  {
   "cell_type": "code",
   "execution_count": 64,
   "id": "3f621854",
   "metadata": {},
   "outputs": [
    {
     "name": "stdout",
     "output_type": "stream",
     "text": [
      "hello apple\n"
     ]
    }
   ],
   "source": [
    "# Write a Python program to remove all whitespaces from a string.\n",
    "s = '  hello  apple  '\n",
    "st = ' '.join(s.split())\n",
    "print(st)"
   ]
  },
  {
   "cell_type": "code",
   "execution_count": 73,
   "id": "d5b17875",
   "metadata": {},
   "outputs": [
    {
     "name": "stdout",
     "output_type": "stream",
     "text": [
      "acsd12312ed23e1ewd23\n"
     ]
    }
   ],
   "source": [
    "# Write a Python program to remove everything except alphanumeric characters from a string.\n",
    "s = '!@#acsd12312ed23e1ewd23'\n",
    "st = '' # ''.join(e for e in s if e.isalnum())\n",
    "for i in s:\n",
    "    if i in 'abcdefghijklmnopqurstuvwxy0123456789':\n",
    "        st += i\n",
    "    else:\n",
    "        continue\n",
    "print(st)"
   ]
  },
  {
   "cell_type": "code",
   "execution_count": 75,
   "id": "cc6eae2b",
   "metadata": {},
   "outputs": [
    {
     "name": "stdout",
     "output_type": "stream",
     "text": [
      "['https://auth.geeksforgeeks.org/user/Chinmoy%20Lenka/articles', 'https://www.geeksforgeeks.org/']\n"
     ]
    }
   ],
   "source": [
    "# Write a Python program to find URLs in a string.\n",
    "s = 'My Profile: https://auth.geeksforgeeks.org/user/Chinmoy%20Lenka/articles in the portal of https://www.geeksforgeeks.org/'\n",
    "x = s.split()\n",
    "l = []\n",
    "for i in x:\n",
    "    if i.startswith(\"https:\") or i.startswith(\"http:\"):\n",
    "        l.append(i)\n",
    "print(l)"
   ]
  },
  {
   "cell_type": "code",
   "execution_count": 81,
   "id": "ef3a9567",
   "metadata": {},
   "outputs": [
    {
     "name": "stdout",
     "output_type": "stream",
     "text": [
      "['Python', 'Tutorial', 'And', 'Exercises']\n"
     ]
    }
   ],
   "source": [
    "# Write a Python program to split a string into uppercase letters.\n",
    "s = 'PythonTutorialAndExercises'\n",
    "st = s[0]\n",
    "l = []\n",
    "for i in range(1, len(s)):\n",
    "    if s[i] in 'ABCDEFGHIJKLMNOPQRSTUVWXYZ':\n",
    "        l.append(st)\n",
    "        st = s[i]\n",
    "        \n",
    "    else:\n",
    "        st += s[i]\n",
    "l.append(st)\n",
    "print(l)"
   ]
  },
  {
   "cell_type": "code",
   "execution_count": 84,
   "id": "952ad65a",
   "metadata": {},
   "outputs": [
    {
     "name": "stdout",
     "output_type": "stream",
     "text": [
      "['gfg', 'is', 'BeSt']\n",
      "Replaced String : gfg is good\n"
     ]
    }
   ],
   "source": [
    "# Write a Python program to do case-insensitive string replacement.\n",
    "test_str = \"gfg is BeSt\"\n",
    "\n",
    "repl = \"good\"\n",
    "\n",
    "subs = \"best\"\n",
    "\n",
    "x = test_str.split() \n",
    "print(x)\n",
    "for i in x: \n",
    "    if(i.lower() == subs.lower()):\n",
    "        test_str = test_str.replace(i,repl) \n",
    "\n",
    "print(\"Replaced String : \" + test_str)"
   ]
  },
  {
   "cell_type": "code",
   "execution_count": 82,
   "id": "b0eea614",
   "metadata": {},
   "outputs": [
    {
     "name": "stdout",
     "output_type": "stream",
     "text": [
      "Python Tutorial And Exercises\n"
     ]
    }
   ],
   "source": [
    "# Write a Python program to insert spaces between words starting with capital letters.\n",
    "s = 'PythonTutorialAndExercises'\n",
    "st = s[0]\n",
    "for i in range(1, len(s)):\n",
    "    if s[i] in 'ABCDEFGHIJKLMNOPQRSTUVWXYZ':\n",
    "        st += ' ' \n",
    "        st += s[i]\n",
    "        \n",
    "    else:\n",
    "        st += s[i]\n",
    "print(st)"
   ]
  }
 ],
 "metadata": {
  "kernelspec": {
   "display_name": "Python 3 (ipykernel)",
   "language": "python",
   "name": "python3"
  },
  "language_info": {
   "codemirror_mode": {
    "name": "ipython",
    "version": 3
   },
   "file_extension": ".py",
   "mimetype": "text/x-python",
   "name": "python",
   "nbconvert_exporter": "python",
   "pygments_lexer": "ipython3",
   "version": "3.11.5"
  }
 },
 "nbformat": 4,
 "nbformat_minor": 5
}
